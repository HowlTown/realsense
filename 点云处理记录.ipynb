{
 "cells": [
  {
   "cell_type": "markdown",
   "metadata": {},
   "source": [
    "## 点云处理记录\n",
    "### 1. 点云数据获取\n",
    "#### 1.1 测量仪器介绍\n",
    "测量仪器为Intel realsense D455 双目结构光相机，理想成像范围为(0.6m,6m),室内外均可使用，深度测量方式为双目结构光，摄像头组成：左右两个红外成像仪与中央的RGB摄像头。最高输出分辨率：1280*720，输出图像：深度图 + RGB。"
   ]
  },
  {
   "cell_type": "markdown",
   "metadata": {},
   "source": [
    "#### 1.2 采集数据\n",
    "连接仪器和获取采集数据需要使用 Intel 提供的 SDK，本次点云处理我们采用  python 进行编程，可以直接使用 pip 导入对应库：\n",
    "\n",
    "`pip install pyrealsense2`"
   ]
  },
  {
   "cell_type": "code",
   "execution_count": null,
   "metadata": {
    "vscode": {
     "languageId": "plaintext"
    }
   },
   "outputs": [],
   "source": [
    "pip install pyrealsense2"
   ]
  },
  {
   "cell_type": "code",
   "execution_count": null,
   "metadata": {
    "vscode": {
     "languageId": "plaintext"
    }
   },
   "outputs": [],
   "source": []
  }
 ],
 "metadata": {
  "language_info": {
   "name": "python"
  }
 },
 "nbformat": 4,
 "nbformat_minor": 2
}
