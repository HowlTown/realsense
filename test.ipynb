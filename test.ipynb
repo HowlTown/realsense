{
 "cells": [
  {
   "cell_type": "code",
   "execution_count": 46,
   "metadata": {},
   "outputs": [],
   "source": [
    "import numpy as np\n",
    "import open3d as o3d\n",
    "import os\n",
    "from show import show_pointcloud\n",
    "\n",
    "class intrinsics():\n",
    "    def __init__(self,fx,fy,ppx,ppy):\n",
    "        self.fx = fx\n",
    "        self.fy = fy\n",
    "        self.ppx = ppx\n",
    "        self.ppy = ppy\n",
    "        \n",
    "\n",
    "date = \"2024-12-27\"\n",
    "time = \"20-04\"\n",
    "folders = [\"depth\",\"rgb\"]\n",
    "\n",
    "\n",
    "class RealSenseImages():\n",
    "    def __init__(self):\n",
    "        self.intrinsics = intrinsics(0,0,0,0)\n",
    "        self.raw = {}\n",
    "        self.depth_image = []\n",
    "        self.color_image = []\n",
    "        self.pcd = None\n",
    "        \n",
    "    def set_intrinsics(self,i):\n",
    "        self.intrinsics = i\n",
    "    \n",
    "    def load_images(self,date,time):\n",
    "        folders = [\"depth\",\"rgb\"]\n",
    "        for folder in folders:\n",
    "            self.raw[folder] = []\n",
    "            folder_path = os.path.join(\"data\",date,time,folder)\n",
    "            for i in range(10):\n",
    "                image_path = os.path.join(folder_path,\"%d.npy\" % i)\n",
    "                image = np.load(image_path)\n",
    "                self.raw[folder].append(image)\n",
    "                \n",
    "    def calculate_pointclouds(self,save_path = \"outnew.pcd\"):\n",
    "        o3d_depth = o3d.geometry.Image(self.depth_image.astype(np.uint16))\n",
    "        o3d_color = o3d.geometry.Image(self.color_image.astype(np.uint8))\n",
    "        o3d_rgbd = o3d.geometry.RGBDImage.create_from_color_and_depth(o3d_color, o3d_depth, convert_rgb_to_intensity=False)\n",
    "        \n",
    "        o3d_intrinsic = o3d.camera.PinholeCameraIntrinsic(\n",
    "            width = self.depth_image.shape[1], \n",
    "            height = self.depth_image.shape[0], \n",
    "            fx = self.intrinsics.fx, \n",
    "            fy = self.intrinsics.fy,\n",
    "            cx = self.intrinsics.ppx, \n",
    "            cy = self.intrinsics.ppy)\n",
    "\n",
    "        self.pcd = o3d.geometry.PointCloud.create_from_rgbd_image(o3d_rgbd, o3d_intrinsic)\n",
    "        o3d.io.write_point_cloud(\"outnew.pcd\", self.pcd)\n",
    "        \n",
    "    \n",
    "    def fliter_images(self):\n",
    "        height, width = self.raw[\"depth\"][0].shape\n",
    "        self.depth_image = np.zeros((height,width))\n",
    "        self.color_image = np.zeros((height,width,3))\n",
    "        depth_list = np.stack(self.raw[\"depth\"], axis=0)\n",
    "        median_depth = np.median(depth_list, axis=0).astype(np.uint16)\n",
    "        max_depth = np.max(depth_list, axis=0).astype(np.uint16)\n",
    "        min_depth = np.min(depth_list, axis=0).astype(np.uint16)\n",
    "        median_color = np.median(np.stack(self.raw[\"rgb\"],axis=0),axis=0).astype(np.uint8)\n",
    "        for y in range(height):\n",
    "            for x in range(width):\n",
    "                if max_depth[y,x] - min_depth[y,x] < median_depth[y,x]:\n",
    "                    self.depth_image[y,x] = median_depth[y,x]\n",
    "                    self.color_image[y,x] = median_color[y,x]"
   ]
  },
  {
   "cell_type": "code",
   "execution_count": 47,
   "metadata": {},
   "outputs": [],
   "source": [
    "depth_intrinsics = intrinsics(652.8689575195312,652.8689575195312,651.2142944335938,363.8994140625)\n",
    "rsi = RealSenseImages()\n",
    "rsi.set_intrinsics(depth_intrinsics)\n",
    "rsi.load_images(\"2024-12-27\",\"20-04\")"
   ]
  },
  {
   "cell_type": "code",
   "execution_count": 48,
   "metadata": {},
   "outputs": [],
   "source": [
    "rsi.fliter_images()"
   ]
  },
  {
   "cell_type": "code",
   "execution_count": 49,
   "metadata": {},
   "outputs": [],
   "source": [
    "rsi.calculate_pointclouds()"
   ]
  }
 ],
 "metadata": {
  "kernelspec": {
   "display_name": "realsense",
   "language": "python",
   "name": "python3"
  },
  "language_info": {
   "codemirror_mode": {
    "name": "ipython",
    "version": 3
   },
   "file_extension": ".py",
   "mimetype": "text/x-python",
   "name": "python",
   "nbconvert_exporter": "python",
   "pygments_lexer": "ipython3",
   "version": "3.8.20"
  }
 },
 "nbformat": 4,
 "nbformat_minor": 2
}
