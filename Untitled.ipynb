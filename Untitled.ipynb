{
 "cells": [
  {
   "cell_type": "code",
   "execution_count": 2,
   "id": "c85603ab-c950-4cc5-bb6d-31aa5dfadca8",
   "metadata": {},
   "outputs": [
    {
     "name": "stdout",
     "output_type": "stream",
     "text": [
      "Jupyter environment detected. Enabling Open3D WebVisualizer.\n",
      "[Open3D INFO] WebRTC GUI backend enabled.\n",
      "[Open3D INFO] WebRTCWindowSystem: HTTP handshake server disabled.\n",
      "0\n",
      "1\n",
      "2\n",
      "3\n",
      "4\n",
      "5\n",
      "6\n",
      "7\n",
      "8\n",
      "9\n"
     ]
    }
   ],
   "source": [
    "\"\"\"\n",
    "以下为使用官方计算\n",
    "\"\"\"\n",
    "\n",
    "import pyrealsense2 as rs\n",
    "import numpy as np\n",
    "import open3d as o3d\n",
    "import gc\n",
    "\n",
    "# Configure depth and color streams\n",
    "pipeline = rs.pipeline()\n",
    "config = rs.config()\n",
    "\n",
    "# 设置深度推流\n",
    "config.enable_stream(rs.stream.depth, 1280, 720, rs.format.z16, 15)\n",
    "config.enable_stream(rs.stream.infrared, 1, 1280, 720, rs.format.y8, 15)\n",
    "config.enable_stream(rs.stream.infrared, 2, 1280, 720, rs.format.y8, 15)\n",
    "# 设置RGB推流\n",
    "config.enable_stream(rs.stream.color, 1280, 720, rs.format.rgb8, 15)\n",
    "# Start streaming\n",
    "profile = pipeline.start(config)\n",
    "\n",
    "# Get stream profile and camera intrinsics\n",
    "profile = pipeline.get_active_profile()\n",
    "depth_profile = rs.video_stream_profile(profile.get_stream(rs.stream.depth))\n",
    "depth_intrinsics = depth_profile.get_intrinsics()\n",
    "w, h = depth_intrinsics.width, depth_intrinsics.height\n",
    "\n",
    "# 创建对齐对象（深度对齐颜色）\n",
    "align = rs.align(rs.stream.color)\n",
    "pc = rs.pointcloud()\n",
    "try:\n",
    "    frames = pipeline.wait_for_frames()\n",
    "    # Wait for a coherent pair of frames: depth and color\n",
    "    depth_frame = frames.get_depth_frame()\n",
    "    depth_image = np.asanyarray(depth_frame.get_data())\n",
    "    \n",
    "    color_frame = frames.get_color_frame()\n",
    "    color_image = np.asanyarray(color_frame.get_data())\n",
    "    \n",
    "    if1_frame = frames.get_infrared_frame(1)\n",
    "    if2_frame = frames.get_infrared_frame(2)\n",
    "    if1_image = np.asanyarray(if1_frame.get_data())\n",
    "    if2_image = np.asanyarray(if2_frame.get_data())\n",
    "\n",
    "    #pcd = depth_and_color_to_pointcloud(depth_image, color_image, depth_intrinsics)\n",
    "    #pcd_list.append(pcd)\n",
    "    \n",
    "finally:\n",
    "    pipeline.stop()"
   ]
  },
  {
   "cell_type": "code",
   "execution_count": 14,
   "id": "4e5ea234",
   "metadata": {},
   "outputs": [
    {
     "data": {
      "text/plain": [
       "(3,)"
      ]
     },
     "execution_count": 14,
     "metadata": {},
     "output_type": "execute_result"
    }
   ],
   "source": [
    "color_image[1][1].shape"
   ]
  }
 ],
 "metadata": {
  "kernelspec": {
   "display_name": "imagepro",
   "language": "python",
   "name": "python3"
  },
  "language_info": {
   "codemirror_mode": {
    "name": "ipython",
    "version": 3
   },
   "file_extension": ".py",
   "mimetype": "text/x-python",
   "name": "python",
   "nbconvert_exporter": "python",
   "pygments_lexer": "ipython3",
   "version": "3.8.0"
  }
 },
 "nbformat": 4,
 "nbformat_minor": 5
}
